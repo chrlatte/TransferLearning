{
  "cells": [
    {
      "cell_type": "code",
      "execution_count": 50,
      "metadata": {
        "id": "64OJ5uNRVIy5"
      },
      "outputs": [],
      "source": [
        "import torch\n",
        "import torch.nn as nn\n",
        "import copy\n",
        "\n",
        "import torchmetrics\n",
        "\n",
        "from conplex_dti.model.architectures import SimpleCoembeddingNoSigmoid\n",
        "\n",
        "from conplex_dti.dataset.datamodules import DTIDataModule\n",
        "from conplex_dti.featurizer import get_featurizer\n"
      ]
    },
    {
      "cell_type": "code",
      "execution_count": 51,
      "metadata": {
        "id": "bcthvn10mFQr"
      },
      "outputs": [],
      "source": [
        "# TODO: want to try learning / training on three different models\n",
        "\n",
        "# 1. TransferCoembedding model with two unfrozen layers\n",
        "# 2. original model with only RELU layer unfrozen\n",
        "# 3. original model with lower learning rate\n",
        "\n",
        "\n",
        "# TODO: eventually do do weights and biases logging\n",
        "# TODO: eventually do logg instead of print statements\n",
        "# TODO: eventually add timing"
      ]
    },
    {
      "cell_type": "code",
      "execution_count": 52,
      "metadata": {
        "id": "J9Pg3cj10xUg"
      },
      "outputs": [],
      "source": [
        "DEVICE = torch.device(\"cpu\")\n",
        "BATCH_SIZE = 32"
      ]
    },
    {
      "cell_type": "code",
      "execution_count": 53,
      "metadata": {},
      "outputs": [
        {
          "name": "stderr",
          "output_type": "stream",
          "text": [
            "Some weights of the model checkpoint at Rostlab/prot_bert were not used when initializing BertModel: ['cls.predictions.transform.LayerNorm.bias', 'cls.predictions.transform.dense.weight', 'cls.seq_relationship.weight', 'cls.predictions.decoder.bias', 'cls.predictions.transform.LayerNorm.weight', 'cls.seq_relationship.bias', 'cls.predictions.transform.dense.bias', 'cls.predictions.decoder.weight', 'cls.predictions.bias']\n",
            "- This IS expected if you are initializing BertModel from the checkpoint of a model trained on another task or with another architecture (e.g. initializing a BertForSequenceClassification model from a BertForPreTraining model).\n",
            "- This IS NOT expected if you are initializing BertModel from the checkpoint of a model that you expect to be exactly identical (initializing a BertForSequenceClassification model from a BertForSequenceClassification model).\n",
            "Drug and target featurizers already exist\n",
            "Morgan: 100%|██████████| 80/80 [00:00<00:00, 3711.45it/s]\n",
            "ProtBert: 100%|██████████| 19/19 [00:10<00:00,  1.79it/s]\n"
          ]
        }
      ],
      "source": [
        "# recreate lines 309 -> ~322 from train.py\n",
        "\n",
        "# load the featurizers \n",
        "drug_featurizer = get_featurizer(\"MorganFeaturizer\")\n",
        "# load from pre-trained prot-bert model\n",
        "target_featurizer = get_featurizer(\"ProtBertFeaturizer\")\n",
        "\n",
        "\n",
        "# load data into a drug-target interaction datamodule (combo of dataset/dataloader)\n",
        "datamodule = DTIDataModule(data_dir = \"./new_data/\", drug_featurizer=drug_featurizer, target_featurizer=target_featurizer, batch_size=BATCH_SIZE)\n",
        "datamodule.prepare_data()\n",
        "datamodule.setup()\n",
        "\n",
        "# from the datamodules, get dataloaders to use for training, testing, and validation\n",
        "training_generator = datamodule.train_dataloader()\n",
        "validation_generator = datamodule.val_dataloader()\n",
        "testing_generator = datamodule.test_dataloader()"
      ]
    },
    {
      "cell_type": "code",
      "execution_count": 54,
      "metadata": {},
      "outputs": [
        {
          "data": {
            "text/plain": [
              "<All keys matched successfully>"
            ]
          },
          "execution_count": 54,
          "metadata": {},
          "output_type": "execute_result"
        }
      ],
      "source": [
        "# load previous model from state dict!\n",
        "model = SimpleCoembeddingNoSigmoid(2048, 1024, 1024)  # TODO: drug_featurizer.shape, target_featurizer.shape 2048, 1024, 1024\n",
        "model.load_state_dict(torch.load(\"../pre_trained_model/models/ConPLex_v1_BindingDB.pt\", map_location=\"cpu\"))"
      ]
    },
    {
      "cell_type": "code",
      "execution_count": 55,
      "metadata": {},
      "outputs": [
        {
          "name": "stdout",
          "output_type": "stream",
          "text": [
            "Parameter containing:\n",
            "tensor([[ 0.0047, -0.0079,  0.0238,  ...,  0.0111,  0.0210,  0.0207],\n",
            "        [ 0.0153,  0.0114, -0.0300,  ...,  0.0068, -0.0462, -0.0392],\n",
            "        [ 0.0016,  0.0115, -0.0180,  ..., -0.0070, -0.0049, -0.0085],\n",
            "        ...,\n",
            "        [ 0.0366, -0.0195,  0.0033,  ...,  0.0002, -0.0111, -0.0228],\n",
            "        [ 0.0404,  0.0027,  0.0098,  ..., -0.0241, -0.0017, -0.0129],\n",
            "        [-0.0063,  0.0096, -0.0328,  ...,  0.0028,  0.0066, -0.0292]])\n",
            "Parameter containing:\n",
            "tensor([-0.0171, -0.0019, -0.0151,  ..., -0.0408, -0.0276, -0.0064],\n",
            "       requires_grad=True)\n",
            "Parameter containing:\n",
            "tensor([[-0.0145, -0.0040,  0.0165,  ...,  0.0232,  0.0239, -0.0087],\n",
            "        [ 0.0004,  0.0061, -0.0367,  ..., -0.0063, -0.0146, -0.0555],\n",
            "        [-0.0189, -0.0549,  0.0328,  ..., -0.0027, -0.0060,  0.0128],\n",
            "        ...,\n",
            "        [ 0.0331, -0.0179, -0.0203,  ...,  0.0261, -0.0122, -0.0455],\n",
            "        [ 0.0083, -0.0030,  0.0434,  ...,  0.0112,  0.0150, -0.0119],\n",
            "        [-0.0156,  0.0300,  0.0187,  ...,  0.0637,  0.0372,  0.0134]])\n",
            "Parameter containing:\n",
            "tensor([-0.0167,  0.0247, -0.0026,  ..., -0.0017, -0.0298, -0.0297],\n",
            "       requires_grad=True)\n"
          ]
        }
      ],
      "source": [
        "for i, param in enumerate(model.parameters()):\n",
        "    if i == 0 or i == 2:\n",
        "        param.requires_grad = False\n",
        "    elif i == 1 or i == 3:\n",
        "        param.requires_grad = True\n",
        "\n",
        "    print(param)"
      ]
    },
    {
      "cell_type": "code",
      "execution_count": 56,
      "metadata": {},
      "outputs": [],
      "source": [
        "model\n",
        "model = model.to(DEVICE)"
      ]
    },
    {
      "cell_type": "code",
      "execution_count": 57,
      "metadata": {},
      "outputs": [],
      "source": [
        "# optimizer:\n",
        "LEARNING_RATE = 0.005 # not same as sam, larger\n",
        "RESET_AFTER_EPOCHS = 10 # aka lr_t0 from config file TODO: play with this, currently same as sam\n",
        "\n",
        "opt = torch.optim.AdamW(model.parameters(), lr=LEARNING_RATE) # AdamW is Adam with weight decay\n",
        "lr_scheduler = torch.optim.lr_scheduler.CosineAnnealingWarmRestarts(opt, T_0=RESET_AFTER_EPOCHS)\n",
        "\n",
        "\n",
        "\n",
        "# More variables\n",
        "NUM_EPOCHS = 40 # TODO: play with this\n",
        "VALIDATE_AFTER_EPOCHS = 1 # TODO: play with this\n",
        "CLASSIFY = True # 309\n",
        "WATCH_METRIC = \"val/aupr\" # 310\n",
        "\n",
        "\n",
        "SAVE_DIRECTORY = \"./saved_models/\" # TODO: eventually change this\n",
        "RUN_ID = \"test_run\" # TODO: eventually change this\n",
        "from pathlib import Path"
      ]
    },
    {
      "cell_type": "code",
      "execution_count": 58,
      "metadata": {},
      "outputs": [],
      "source": [
        "# keep track of best model:\n",
        "max_metric = 0\n",
        "model_max = copy.deepcopy(model) # currently last (2) layers are random\n"
      ]
    },
    {
      "cell_type": "code",
      "execution_count": 59,
      "metadata": {},
      "outputs": [],
      "source": [
        "# line 413 -> 423, NOT doing contrastive learning\n",
        "\n",
        "# Using Binary Cross Entropy loss function because we are trying to predict a binary label (binding or no binding):\n",
        "loss_fct = torch.nn.BCELoss() \n",
        "\n",
        "# Keep track of how well the model is doing (on each epoch)\n",
        "val_metrics = {\"val/aupr\": torchmetrics.AveragePrecision, \"val/auroc\": torchmetrics.AUROC}\n",
        "test_metrics = {\"test/aupr\": torchmetrics.AveragePrecision, \"test/auroc\": torchmetrics.AUROC}\n"
      ]
    },
    {
      "cell_type": "code",
      "execution_count": 60,
      "metadata": {},
      "outputs": [],
      "source": [
        "# FUNCTIONS FOR TRAINING:\n",
        "import numpy as np\n",
        "from torch.autograd import Variable\n",
        "\n",
        "def step(model, batch, device=None):\n",
        "    if device is None:\n",
        "        device = torch.device(\"cpu\")\n",
        "\n",
        "    drug, target, label = batch  # target is (D + N_pool)\n",
        "    pred = model(drug.to(device), target.to(device))\n",
        "    label = Variable(torch.from_numpy(np.array(label)).float()).to(device)\n",
        "    return pred, label\n",
        "\n"
      ]
    },
    {
      "cell_type": "code",
      "execution_count": 61,
      "metadata": {},
      "outputs": [],
      "source": [
        "# FUNCTIONS FOR TESTING:\n",
        "def test(model, data_generator, metrics, device=None, classify=True):\n",
        "    if device is None:\n",
        "        device = torch.device(\"cpu\")\n",
        "\n",
        "    metric_dict = {}\n",
        "\n",
        "    for k, met_class in metrics.items():\n",
        "        if classify:\n",
        "            met_instance = met_class(task=\"binary\")\n",
        "        else:\n",
        "            met_instance = met_class()\n",
        "        met_instance.to(device)\n",
        "        met_instance.reset()\n",
        "        metric_dict[k] = met_instance\n",
        "\n",
        "    model.eval()\n",
        "\n",
        "    for i, batch in enumerate(data_generator):\n",
        "        pred, label = step(model, batch, device)\n",
        "        if classify:\n",
        "            label = label.int()\n",
        "        else:\n",
        "            label = label.float()\n",
        "\n",
        "        for _, met_instance in metric_dict.items():\n",
        "            met_instance(pred, label)\n",
        "\n",
        "    results = {}\n",
        "    for k, met_instance in metric_dict.items():\n",
        "        res = met_instance.compute()\n",
        "        results[k] = res\n",
        "\n",
        "    for met_instance in metric_dict.values():\n",
        "        met_instance.to(\"cpu\")\n",
        "\n",
        "    return results\n"
      ]
    },
    {
      "cell_type": "code",
      "execution_count": 62,
      "metadata": {},
      "outputs": [],
      "source": [
        "train_losses = []\n",
        "val_losses = []"
      ]
    },
    {
      "cell_type": "code",
      "execution_count": 63,
      "metadata": {},
      "outputs": [
        {
          "name": "stdout",
          "output_type": "stream",
          "text": [
            "Beginning Training\n",
            "Trainign epoch is 1\n",
            "loss was 1.007005. Updating learning rate to 0.004878\n",
            "Validation AUPR 0.507561 > previous max 0.000000\n",
            "Saving checkpoint model to saved_models/test_run_best_model_epoch00.pt\n",
            "Validation at Epoch 1\n",
            "val/aupr: 0.5075610280036926\n",
            "val/auroc: 0.5103702545166016\n",
            "Trainign epoch is 2\n",
            "loss was 0.790159. Updating learning rate to 0.004523\n",
            "Validation at Epoch 2\n",
            "val/aupr: 0.5058331489562988\n",
            "val/auroc: 0.5121147632598877\n",
            "Trainign epoch is 3\n",
            "loss was 1.176809. Updating learning rate to 0.003969\n",
            "Validation AUPR 0.507932 > previous max 0.507561\n",
            "Saving checkpoint model to saved_models/test_run_best_model_epoch02.pt\n",
            "Validation at Epoch 3\n",
            "val/aupr: 0.5079318284988403\n",
            "val/auroc: 0.5097887516021729\n",
            "Trainign epoch is 4\n",
            "loss was 0.796270. Updating learning rate to 0.003273\n",
            "Validation at Epoch 4\n",
            "val/aupr: 0.5074411630630493\n",
            "val/auroc: 0.5159914493560791\n",
            "Trainign epoch is 5\n",
            "loss was 0.480834. Updating learning rate to 0.002500\n",
            "Validation AUPR 0.508669 > previous max 0.507932\n",
            "Saving checkpoint model to saved_models/test_run_best_model_epoch04.pt\n",
            "Validation at Epoch 5\n",
            "val/aupr: 0.5086685419082642\n",
            "val/auroc: 0.5206435322761536\n",
            "Trainign epoch is 6\n",
            "loss was 0.694610. Updating learning rate to 0.001727\n",
            "Validation AUPR 0.520552 > previous max 0.508669\n",
            "Saving checkpoint model to saved_models/test_run_best_model_epoch05.pt\n",
            "Validation at Epoch 6\n",
            "val/aupr: 0.5205519795417786\n",
            "val/auroc: 0.5282031297683716\n",
            "Trainign epoch is 7\n",
            "loss was 0.689405. Updating learning rate to 0.001031\n",
            "Validation AUPR 0.521051 > previous max 0.520552\n",
            "Saving checkpoint model to saved_models/test_run_best_model_epoch06.pt\n",
            "Validation at Epoch 7\n",
            "val/aupr: 0.5210506916046143\n",
            "val/auroc: 0.5332428812980652\n",
            "Trainign epoch is 8\n",
            "loss was 0.618028. Updating learning rate to 0.000477\n",
            "Validation AUPR 0.523093 > previous max 0.521051\n",
            "Saving checkpoint model to saved_models/test_run_best_model_epoch07.pt\n",
            "Validation at Epoch 8\n",
            "val/aupr: 0.5230926871299744\n",
            "val/auroc: 0.534599781036377\n",
            "Trainign epoch is 9\n",
            "loss was 0.723867. Updating learning rate to 0.000122\n",
            "Validation AUPR 0.524098 > previous max 0.523093\n",
            "Saving checkpoint model to saved_models/test_run_best_model_epoch08.pt\n",
            "Validation at Epoch 9\n",
            "val/aupr: 0.52409827709198\n",
            "val/auroc: 0.535956621170044\n",
            "Trainign epoch is 10\n",
            "loss was 0.916666. Updating learning rate to 0.005000\n",
            "Validation at Epoch 10\n",
            "val/aupr: 0.523984432220459\n",
            "val/auroc: 0.5363442897796631\n",
            "Trainign epoch is 11\n",
            "loss was 0.674818. Updating learning rate to 0.004878\n",
            "Validation AUPR 0.534468 > previous max 0.524098\n",
            "Saving checkpoint model to saved_models/test_run_best_model_epoch10.pt\n",
            "Validation at Epoch 11\n",
            "val/aupr: 0.5344679355621338\n",
            "val/auroc: 0.5528203248977661\n",
            "Trainign epoch is 12\n",
            "loss was 0.528018. Updating learning rate to 0.004523\n",
            "Validation AUPR 0.539001 > previous max 0.534468\n",
            "Saving checkpoint model to saved_models/test_run_best_model_epoch11.pt\n",
            "Validation at Epoch 12\n",
            "val/aupr: 0.5390008687973022\n",
            "val/auroc: 0.5638689398765564\n",
            "Trainign epoch is 13\n",
            "loss was 0.595983. Updating learning rate to 0.003969\n",
            "Validation AUPR 0.547634 > previous max 0.539001\n",
            "Saving checkpoint model to saved_models/test_run_best_model_epoch12.pt\n",
            "Validation at Epoch 13\n",
            "val/aupr: 0.547634482383728\n",
            "val/auroc: 0.5722038745880127\n",
            "Trainign epoch is 14\n",
            "loss was 0.632426. Updating learning rate to 0.003273\n",
            "Validation at Epoch 14\n",
            "val/aupr: 0.5462372303009033\n",
            "val/auroc: 0.5760806202888489\n",
            "Trainign epoch is 15\n",
            "loss was 0.651299. Updating learning rate to 0.002500\n",
            "Validation AUPR 0.550545 > previous max 0.547634\n",
            "Saving checkpoint model to saved_models/test_run_best_model_epoch14.pt\n",
            "Validation at Epoch 15\n",
            "val/aupr: 0.5505450963973999\n",
            "val/auroc: 0.5807327032089233\n",
            "Trainign epoch is 16\n",
            "loss was 0.632567. Updating learning rate to 0.001727\n",
            "Validation AUPR 0.552490 > previous max 0.550545\n",
            "Saving checkpoint model to saved_models/test_run_best_model_epoch15.pt\n",
            "Validation at Epoch 16\n",
            "val/aupr: 0.552490234375\n",
            "val/auroc: 0.585384726524353\n",
            "Trainign epoch is 17\n",
            "loss was 0.735328. Updating learning rate to 0.001031\n",
            "Validation AUPR 0.558028 > previous max 0.552490\n",
            "Saving checkpoint model to saved_models/test_run_best_model_epoch16.pt\n",
            "Validation at Epoch 17\n",
            "val/aupr: 0.5580283999443054\n",
            "val/auroc: 0.5915875434875488\n",
            "Trainign epoch is 18\n",
            "loss was 0.554297. Updating learning rate to 0.000477\n",
            "Validation AUPR 0.559089 > previous max 0.558028\n",
            "Saving checkpoint model to saved_models/test_run_best_model_epoch17.pt\n",
            "Validation at Epoch 18\n",
            "val/aupr: 0.5590893030166626\n",
            "val/auroc: 0.591587483882904\n",
            "Trainign epoch is 19\n",
            "loss was 0.519012. Updating learning rate to 0.000122\n",
            "Validation AUPR 0.559495 > previous max 0.559089\n",
            "Saving checkpoint model to saved_models/test_run_best_model_epoch18.pt\n",
            "Validation at Epoch 19\n",
            "val/aupr: 0.5594946146011353\n",
            "val/auroc: 0.5917813777923584\n",
            "Trainign epoch is 20\n",
            "loss was 0.517340. Updating learning rate to 0.005000\n",
            "Validation AUPR 0.559722 > previous max 0.559495\n",
            "Saving checkpoint model to saved_models/test_run_best_model_epoch19.pt\n",
            "Validation at Epoch 20\n",
            "val/aupr: 0.5597221255302429\n",
            "val/auroc: 0.5919752717018127\n",
            "Trainign epoch is 21\n",
            "loss was 0.616806. Updating learning rate to 0.004878\n",
            "Validation at Epoch 21\n",
            "val/aupr: 0.5570977330207825\n",
            "val/auroc: 0.5943012237548828\n",
            "Trainign epoch is 22\n",
            "loss was 0.588143. Updating learning rate to 0.004523\n",
            "Validation at Epoch 22\n",
            "val/aupr: 0.5577322244644165\n",
            "val/auroc: 0.5962395668029785\n",
            "Trainign epoch is 23\n",
            "loss was 0.493413. Updating learning rate to 0.003969\n",
            "Validation AUPR 0.563147 > previous max 0.559722\n",
            "Saving checkpoint model to saved_models/test_run_best_model_epoch22.pt\n",
            "Validation at Epoch 23\n",
            "val/aupr: 0.5631468296051025\n",
            "val/auroc: 0.6006978154182434\n",
            "Trainign epoch is 24\n",
            "loss was 0.601324. Updating learning rate to 0.003273\n",
            "Validation AUPR 0.565097 > previous max 0.563147\n",
            "Saving checkpoint model to saved_models/test_run_best_model_epoch23.pt\n",
            "Validation at Epoch 24\n",
            "val/aupr: 0.5650973320007324\n",
            "val/auroc: 0.6020546555519104\n",
            "Trainign epoch is 25\n",
            "loss was 0.592043. Updating learning rate to 0.002500\n",
            "Validation AUPR 0.570865 > previous max 0.565097\n",
            "Saving checkpoint model to saved_models/test_run_best_model_epoch24.pt\n",
            "Validation at Epoch 25\n",
            "val/aupr: 0.5708647966384888\n",
            "val/auroc: 0.604962170124054\n",
            "Trainign epoch is 26\n",
            "loss was 0.631481. Updating learning rate to 0.001727\n",
            "Validation at Epoch 26\n",
            "val/aupr: 0.56907057762146\n",
            "val/auroc: 0.605737566947937\n",
            "Trainign epoch is 27\n",
            "loss was 0.571189. Updating learning rate to 0.001031\n",
            "Validation AUPR 0.571975 > previous max 0.570865\n",
            "Saving checkpoint model to saved_models/test_run_best_model_epoch26.pt\n",
            "Validation at Epoch 27\n",
            "val/aupr: 0.5719753503799438\n",
            "val/auroc: 0.6061252355575562\n",
            "Trainign epoch is 28\n",
            "loss was 0.474106. Updating learning rate to 0.000477\n",
            "Validation AUPR 0.573259 > previous max 0.571975\n",
            "Saving checkpoint model to saved_models/test_run_best_model_epoch27.pt\n",
            "Validation at Epoch 28\n",
            "val/aupr: 0.5732589960098267\n",
            "val/auroc: 0.6065129041671753\n",
            "Trainign epoch is 29\n",
            "loss was 0.628352. Updating learning rate to 0.000122\n",
            "Validation AUPR 0.574613 > previous max 0.573259\n",
            "Saving checkpoint model to saved_models/test_run_best_model_epoch28.pt\n",
            "Validation at Epoch 29\n",
            "val/aupr: 0.5746128559112549\n",
            "val/auroc: 0.6072882413864136\n",
            "Trainign epoch is 30\n",
            "loss was 0.504502. Updating learning rate to 0.005000\n",
            "Validation AUPR 0.574674 > previous max 0.574613\n",
            "Saving checkpoint model to saved_models/test_run_best_model_epoch29.pt\n",
            "Validation at Epoch 30\n",
            "val/aupr: 0.5746744871139526\n",
            "val/auroc: 0.6074820756912231\n",
            "Trainign epoch is 31\n",
            "loss was 0.572628. Updating learning rate to 0.004878\n",
            "Validation at Epoch 31\n",
            "val/aupr: 0.574016809463501\n",
            "val/auroc: 0.6098081469535828\n",
            "Trainign epoch is 32\n",
            "loss was 0.520170. Updating learning rate to 0.004523\n",
            "Validation at Epoch 32\n",
            "val/aupr: 0.5716487169265747\n",
            "val/auroc: 0.6115525960922241\n",
            "Trainign epoch is 33\n",
            "loss was 0.530407. Updating learning rate to 0.003969\n",
            "Validation at Epoch 33\n",
            "val/aupr: 0.5735342502593994\n",
            "val/auroc: 0.6144601702690125\n",
            "Trainign epoch is 34\n",
            "loss was 0.585385. Updating learning rate to 0.003273\n",
            "Validation at Epoch 34\n",
            "val/aupr: 0.5721979737281799\n",
            "val/auroc: 0.6156232357025146\n",
            "Trainign epoch is 35\n",
            "loss was 0.578215. Updating learning rate to 0.002500\n",
            "Validation AUPR 0.576043 > previous max 0.574674\n",
            "Saving checkpoint model to saved_models/test_run_best_model_epoch34.pt\n",
            "Validation at Epoch 35\n",
            "val/aupr: 0.5760433077812195\n",
            "val/auroc: 0.6189184188842773\n",
            "Trainign epoch is 36\n",
            "loss was 0.539219. Updating learning rate to 0.001727\n",
            "Validation at Epoch 36\n",
            "val/aupr: 0.5749669075012207\n",
            "val/auroc: 0.6202752590179443\n",
            "Trainign epoch is 37\n",
            "loss was 0.630893. Updating learning rate to 0.001031\n",
            "Validation at Epoch 37\n",
            "val/aupr: 0.5738017559051514\n",
            "val/auroc: 0.619499921798706\n",
            "Trainign epoch is 38\n",
            "loss was 0.466736. Updating learning rate to 0.000477\n",
            "Validation at Epoch 38\n",
            "val/aupr: 0.5757430791854858\n",
            "val/auroc: 0.620856761932373\n",
            "Trainign epoch is 39\n",
            "loss was 0.584922. Updating learning rate to 0.000122\n",
            "Validation AUPR 0.576176 > previous max 0.576043\n",
            "Saving checkpoint model to saved_models/test_run_best_model_epoch38.pt\n",
            "Validation at Epoch 39\n",
            "val/aupr: 0.5761756896972656\n",
            "val/auroc: 0.6214382648468018\n",
            "Trainign epoch is 40\n",
            "loss was 0.627430. Updating learning rate to 0.005000\n",
            "Validation AUPR 0.576298 > previous max 0.576176\n",
            "Saving checkpoint model to saved_models/test_run_best_model_epoch39.pt\n",
            "Validation at Epoch 40\n",
            "val/aupr: 0.5762977600097656\n",
            "val/auroc: 0.6216320991516113\n"
          ]
        }
      ],
      "source": [
        "\n",
        "print(f\"Beginning Training\")\n",
        "\n",
        "torch.backends.cudnn.benchmark = True\n",
        "\n",
        "for epo in range(NUM_EPOCHS): # TODO: eventually do tqdm (progress bar)\n",
        "\n",
        "    print(f\"Trainign epoch is {epo + 1}\")\n",
        "\n",
        "    # Training\n",
        "    model.train()\n",
        "    for i, batch in enumerate(training_generator):\n",
        "        # print(f\"batch number {i + 1}\")\n",
        "        pred, label = step(model, batch, DEVICE)  # batch is (2048, 1024, 1)\n",
        "        loss = loss_fct(pred, label)\n",
        "        \n",
        "        opt.zero_grad()\n",
        "        loss.backward()\n",
        "        opt.step()\n",
        "        # break\n",
        "    lr_scheduler.step()\n",
        "    print(f\"loss was {loss.cpu().detach().numpy():8f}. Updating learning rate to {lr_scheduler.get_lr()[0]:8f}\")\n",
        "    train_losses.append(loss.cpu().detach().numpy())\n",
        "\n",
        "\n",
        "    # Validation\n",
        "    if epo % VALIDATE_AFTER_EPOCHS == 0:\n",
        "        with torch.set_grad_enabled(False):\n",
        "            val_results = test(\n",
        "                model = model,\n",
        "                data_generator = validation_generator,\n",
        "                metrics = val_metrics,\n",
        "                device = DEVICE,\n",
        "                classify = CLASSIFY,\n",
        "            )\n",
        "            val_results[\"epoch\"] = epo \n",
        "            \n",
        "            val_losses.append(val_results[WATCH_METRIC])\n",
        "\n",
        "            if val_results[WATCH_METRIC] > max_metric:\n",
        "                print(f\"Validation AUPR {val_results[WATCH_METRIC]:8f} > previous max {max_metric:8f}\")\n",
        "                model_max = copy.deepcopy(model)\n",
        "                max_metric = val_results[WATCH_METRIC]\n",
        "                model_save_path = Path(\n",
        "                    f\"{SAVE_DIRECTORY}/{RUN_ID}_best_model_epoch{epo:02}.pt\"\n",
        "                )\n",
        "                torch.save(\n",
        "                    model_max.state_dict(),\n",
        "                    model_save_path,\n",
        "                )\n",
        "                print(f\"Saving checkpoint model to {model_save_path}\")\n",
        "                \n",
        "            print(f\"Validation at Epoch {epo + 1}\")\n",
        "            for k, v in val_results.items():\n",
        "                if not k.startswith(\"_\") and not k.startswith(\"epoch\"):\n",
        "                    print(f\"{k}: {v}\")\n"
      ]
    },
    {
      "cell_type": "code",
      "execution_count": null,
      "metadata": {},
      "outputs": [],
      "source": []
    },
    {
      "cell_type": "code",
      "execution_count": 64,
      "metadata": {},
      "outputs": [
        {
          "name": "stdout",
          "output_type": "stream",
          "text": [
            "Beginning testing\n",
            "Final Testing\n",
            "test/aupr: 0.5127537250518799\n",
            "test/auroc: 0.5578109622001648\n",
            "Saving final model to saved_models/test_run_best_model.pt\n"
          ]
        }
      ],
      "source": [
        "# Testing\n",
        "print(\"Beginning testing\")\n",
        "try:\n",
        "    with torch.set_grad_enabled(False):\n",
        "        model_max = model_max.eval()\n",
        "\n",
        "        test_results = test(\n",
        "            model = model_max,\n",
        "            data_generator = testing_generator,\n",
        "            metrics = test_metrics,\n",
        "            device = DEVICE,\n",
        "            classify = CLASSIFY,\n",
        "        )\n",
        "        \n",
        "        test_results[\"epoch\"] = epo + 1\n",
        "\n",
        "        print(\"Final Testing\")\n",
        "        for k, v in test_results.items():\n",
        "            if not k.startswith(\"_\") and not k.startswith(\"epoch\"):\n",
        "                print(f\"{k}: {v}\")\n",
        "\n",
        "        model_save_path = Path(f\"{SAVE_DIRECTORY}/{RUN_ID}_best_model.pt\")\n",
        "        torch.save(\n",
        "            model_max.state_dict(),\n",
        "            model_save_path,\n",
        "        )\n",
        "        print(f\"Saving final model to {model_save_path}\")\n",
        "\n",
        "except Exception as e:\n",
        "    print(f\"Testing failed with exception {e}\")"
      ]
    },
    {
      "cell_type": "code",
      "execution_count": 65,
      "metadata": {},
      "outputs": [
        {
          "data": {
            "image/png": "[encoded data removed]",
            "text/plain": [
              "<Figure size 640x480 with 1 Axes>"
            ]
          },
          "metadata": {},
          "output_type": "display_data"
        }
      ],
      "source": [
        "import matplotlib.pyplot as plt\n",
        "import numpy as np\n",
        "\n",
        "def plot_results(train_losses, val_losses):\n",
        "    epochs = range(1, NUM_EPOCHS + 1)\n",
        "    plt.plot(epochs, train_losses, label='Training Loss')\n",
        "    plt.plot(epochs, val_losses, label='Validation aupr')\n",
        "    plt.xlabel('Epoch')\n",
        "    plt.ylabel('loss OR aupr score')\n",
        "    plt.legend()\n",
        "    plt.title('Training and Validation Losses')\n",
        "    plt.show()\n",
        "\n",
        "plot_results(train_losses, val_losses)\n"
      ]
    },
    {
      "cell_type": "code",
      "execution_count": null,
      "metadata": {},
      "outputs": [],
      "source": []
    },
    {
      "cell_type": "code",
      "execution_count": null,
      "metadata": {},
      "outputs": [],
      "source": []
    },
    {
      "cell_type": "code",
      "execution_count": null,
      "metadata": {},
      "outputs": [],
      "source": []
    },
    {
      "cell_type": "code",
      "execution_count": null,
      "metadata": {},
      "outputs": [],
      "source": []
    },
    {
      "cell_type": "code",
      "execution_count": null,
      "metadata": {},
      "outputs": [],
      "source": []
    },
    {
      "cell_type": "code",
      "execution_count": null,
      "metadata": {},
      "outputs": [],
      "source": []
    },
    {
      "cell_type": "code",
      "execution_count": null,
      "metadata": {},
      "outputs": [],
      "source": []
    },
    {
      "cell_type": "code",
      "execution_count": null,
      "metadata": {},
      "outputs": [],
      "source": []
    },
    {
      "cell_type": "code",
      "execution_count": null,
      "metadata": {},
      "outputs": [],
      "source": []
    },
    {
      "cell_type": "code",
      "execution_count": null,
      "metadata": {},
      "outputs": [],
      "source": []
    },
    {
      "cell_type": "code",
      "execution_count": null,
      "metadata": {},
      "outputs": [],
      "source": []
    },
    {
      "cell_type": "code",
      "execution_count": null,
      "metadata": {},
      "outputs": [],
      "source": []
    },
    {
      "cell_type": "code",
      "execution_count": null,
      "metadata": {},
      "outputs": [],
      "source": []
    },
    {
      "cell_type": "code",
      "execution_count": null,
      "metadata": {},
      "outputs": [],
      "source": []
    },
    {
      "cell_type": "code",
      "execution_count": null,
      "metadata": {},
      "outputs": [],
      "source": []
    },
    {
      "cell_type": "code",
      "execution_count": null,
      "metadata": {},
      "outputs": [],
      "source": []
    },
    {
      "cell_type": "code",
      "execution_count": null,
      "metadata": {},
      "outputs": [],
      "source": []
    },
    {
      "cell_type": "code",
      "execution_count": null,
      "metadata": {},
      "outputs": [],
      "source": []
    },
    {
      "cell_type": "code",
      "execution_count": null,
      "metadata": {},
      "outputs": [],
      "source": []
    },
    {
      "cell_type": "code",
      "execution_count": null,
      "metadata": {},
      "outputs": [],
      "source": []
    },
    {
      "cell_type": "code",
      "execution_count": null,
      "metadata": {},
      "outputs": [],
      "source": []
    },
    {
      "cell_type": "code",
      "execution_count": null,
      "metadata": {},
      "outputs": [],
      "source": []
    },
    {
      "cell_type": "code",
      "execution_count": null,
      "metadata": {},
      "outputs": [],
      "source": []
    },
    {
      "cell_type": "code",
      "execution_count": null,
      "metadata": {},
      "outputs": [],
      "source": []
    },
    {
      "cell_type": "code",
      "execution_count": null,
      "metadata": {},
      "outputs": [],
      "source": []
    },
    {
      "cell_type": "code",
      "execution_count": null,
      "metadata": {},
      "outputs": [],
      "source": []
    },
    {
      "cell_type": "code",
      "execution_count": null,
      "metadata": {},
      "outputs": [],
      "source": []
    },
    {
      "cell_type": "code",
      "execution_count": null,
      "metadata": {},
      "outputs": [],
      "source": []
    },
    {
      "cell_type": "code",
      "execution_count": null,
      "metadata": {},
      "outputs": [],
      "source": []
    },
    {
      "cell_type": "code",
      "execution_count": null,
      "metadata": {},
      "outputs": [],
      "source": []
    },
    {
      "cell_type": "code",
      "execution_count": null,
      "metadata": {},
      "outputs": [],
      "source": []
    },
    {
      "cell_type": "code",
      "execution_count": null,
      "metadata": {},
      "outputs": [],
      "source": []
    },
    {
      "cell_type": "code",
      "execution_count": null,
      "metadata": {},
      "outputs": [],
      "source": []
    },
    {
      "cell_type": "code",
      "execution_count": null,
      "metadata": {},
      "outputs": [],
      "source": []
    },
    {
      "cell_type": "code",
      "execution_count": null,
      "metadata": {},
      "outputs": [],
      "source": []
    },
    {
      "cell_type": "code",
      "execution_count": null,
      "metadata": {},
      "outputs": [],
      "source": []
    },
    {
      "cell_type": "code",
      "execution_count": null,
      "metadata": {},
      "outputs": [],
      "source": []
    },
    {
      "cell_type": "code",
      "execution_count": null,
      "metadata": {},
      "outputs": [],
      "source": []
    },
    {
      "cell_type": "code",
      "execution_count": null,
      "metadata": {},
      "outputs": [],
      "source": []
    },
    {
      "cell_type": "code",
      "execution_count": null,
      "metadata": {},
      "outputs": [],
      "source": []
    },
    {
      "cell_type": "code",
      "execution_count": null,
      "metadata": {},
      "outputs": [],
      "source": []
    },
    {
      "cell_type": "code",
      "execution_count": null,
      "metadata": {},
      "outputs": [],
      "source": []
    },
    {
      "cell_type": "code",
      "execution_count": null,
      "metadata": {},
      "outputs": [],
      "source": []
    },
    {
      "cell_type": "code",
      "execution_count": null,
      "metadata": {},
      "outputs": [],
      "source": []
    },
    {
      "cell_type": "code",
      "execution_count": null,
      "metadata": {},
      "outputs": [],
      "source": []
    },
    {
      "cell_type": "code",
      "execution_count": null,
      "metadata": {},
      "outputs": [],
      "source": []
    },
    {
      "cell_type": "code",
      "execution_count": null,
      "metadata": {},
      "outputs": [],
      "source": []
    }
  ],
  "metadata": {
    "colab": {
      "provenance": []
    },
    "kernelspec": {
      "display_name": "Python 3",
      "name": "python3"
    },
    "language_info": {
      "codemirror_mode": {
        "name": "ipython",
        "version": 3
      },
      "file_extension": ".py",
      "mimetype": "text/x-python",
      "name": "python",
      "nbconvert_exporter": "python",
      "pygments_lexer": "ipython3",
      "version": "3.9.6"
    }
  },
  "nbformat": 4,
  "nbformat_minor": 0
}
